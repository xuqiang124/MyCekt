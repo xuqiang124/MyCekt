{
 "cells": [
  {
   "cell_type": "code",
   "execution_count": 2,
   "id": "1aad6d47",
   "metadata": {},
   "outputs": [
    {
     "data": {
      "text/html": [
       "<div>\n",
       "<style scoped>\n",
       "    .dataframe tbody tr th:only-of-type {\n",
       "        vertical-align: middle;\n",
       "    }\n",
       "\n",
       "    .dataframe tbody tr th {\n",
       "        vertical-align: top;\n",
       "    }\n",
       "\n",
       "    .dataframe thead th {\n",
       "        text-align: right;\n",
       "    }\n",
       "</style>\n",
       "<table border=\"1\" class=\"dataframe\">\n",
       "  <thead>\n",
       "    <tr style=\"text-align: right;\">\n",
       "      <th></th>\n",
       "      <th>problem_id</th>\n",
       "      <th>problem_description</th>\n",
       "      <th>language</th>\n",
       "    </tr>\n",
       "  </thead>\n",
       "  <tbody>\n",
       "    <tr>\n",
       "      <th>0</th>\n",
       "      <td>p02872</td>\n",
       "      <td>Problem Setting\\r\\nOverview\\r\\nSpecification o...</td>\n",
       "      <td>english</td>\n",
       "    </tr>\n",
       "    <tr>\n",
       "      <th>1</th>\n",
       "      <td>p01327</td>\n",
       "      <td>Problem G: 天体観測\\r\\n2012年のある日のこと。\\r\\n北の田舎町に住むあな...</td>\n",
       "      <td>japanese</td>\n",
       "    </tr>\n",
       "    <tr>\n",
       "      <th>2</th>\n",
       "      <td>p02871</td>\n",
       "      <td>Problem Setting\\r\\nOverview\\r\\nSpecification o...</td>\n",
       "      <td>english</td>\n",
       "    </tr>\n",
       "    <tr>\n",
       "      <th>3</th>\n",
       "      <td>p01482</td>\n",
       "      <td>Memory Leak\\r\\nTime Limit: 8 sec / Memory Limi...</td>\n",
       "      <td>japanese</td>\n",
       "    </tr>\n",
       "    <tr>\n",
       "      <th>4</th>\n",
       "      <td>p01535</td>\n",
       "      <td>Markup language has Declined\\r\\nE: マークアップ言語は衰退...</td>\n",
       "      <td>japanese</td>\n",
       "    </tr>\n",
       "  </tbody>\n",
       "</table>\n",
       "</div>"
      ],
      "text/plain": [
       "  problem_id                                problem_description  language\n",
       "0     p02872  Problem Setting\\r\\nOverview\\r\\nSpecification o...   english\n",
       "1     p01327  Problem G: 天体観測\\r\\n2012年のある日のこと。\\r\\n北の田舎町に住むあな...  japanese\n",
       "2     p02871  Problem Setting\\r\\nOverview\\r\\nSpecification o...   english\n",
       "3     p01482  Memory Leak\\r\\nTime Limit: 8 sec / Memory Limi...  japanese\n",
       "4     p01535  Markup language has Declined\\r\\nE: マークアップ言語は衰退...  japanese"
      ]
     },
     "execution_count": 2,
     "metadata": {},
     "output_type": "execute_result"
    }
   ],
   "source": [
    "import pandas as pd\n",
    "\n",
    "question_df = pd.read_csv('../data/problem_descriptions.csv')\n",
    "question_df.head()"
   ]
  },
  {
   "cell_type": "code",
   "execution_count": 3,
   "id": "0f482e40",
   "metadata": {},
   "outputs": [],
   "source": [
    "problem_dict = {}\n",
    "for index, row in question_df.iterrows():\n",
    "    problem_dict[row['problem_id']] = row['problem_description']"
   ]
  },
  {
   "cell_type": "code",
   "execution_count": 16,
   "id": "b72787e8",
   "metadata": {},
   "outputs": [
    {
     "data": {
      "text/plain": [
       "3999"
      ]
     },
     "execution_count": 16,
     "metadata": {},
     "output_type": "execute_result"
    }
   ],
   "source": [
    "len(problem_dict)"
   ]
  },
  {
   "cell_type": "code",
   "execution_count": 84,
   "id": "71dc0c62",
   "metadata": {},
   "outputs": [
    {
     "data": {
      "text/html": [
       "<div>\n",
       "<style scoped>\n",
       "    .dataframe tbody tr th:only-of-type {\n",
       "        vertical-align: middle;\n",
       "    }\n",
       "\n",
       "    .dataframe tbody tr th {\n",
       "        vertical-align: top;\n",
       "    }\n",
       "\n",
       "    .dataframe thead th {\n",
       "        text-align: right;\n",
       "    }\n",
       "</style>\n",
       "<table border=\"1\" class=\"dataframe\">\n",
       "  <thead>\n",
       "    <tr style=\"text-align: right;\">\n",
       "      <th></th>\n",
       "      <th>problem_id</th>\n",
       "      <th>problem_description</th>\n",
       "    </tr>\n",
       "  </thead>\n",
       "  <tbody>\n",
       "    <tr>\n",
       "      <th>0</th>\n",
       "      <td>45</td>\n",
       "      <td>Return the sum of the numbers in the array, ex...</td>\n",
       "    </tr>\n",
       "    <tr>\n",
       "      <th>1</th>\n",
       "      <td>48</td>\n",
       "      <td>Give you an array, write a Java function witho...</td>\n",
       "    </tr>\n",
       "    <tr>\n",
       "      <th>2</th>\n",
       "      <td>51</td>\n",
       "      <td>Given an array, write a Java function tenRun t...</td>\n",
       "    </tr>\n",
       "    <tr>\n",
       "      <th>3</th>\n",
       "      <td>56</td>\n",
       "      <td>Given an integer array, write a Java function ...</td>\n",
       "    </tr>\n",
       "    <tr>\n",
       "      <th>4</th>\n",
       "      <td>57</td>\n",
       "      <td>Given a number n, create and return a new int ...</td>\n",
       "    </tr>\n",
       "  </tbody>\n",
       "</table>\n",
       "</div>"
      ],
      "text/plain": [
       "   problem_id                                problem_description\n",
       "0          45  Return the sum of the numbers in the array, ex...\n",
       "1          48  Give you an array, write a Java function witho...\n",
       "2          51  Given an array, write a Java function tenRun t...\n",
       "3          56  Given an integer array, write a Java function ...\n",
       "4          57  Given a number n, create and return a new int ..."
      ]
     },
     "execution_count": 84,
     "metadata": {},
     "output_type": "execute_result"
    }
   ],
   "source": [
    "import pandas as pd\n",
    "q_df = pd.read_csv('../data/502/502_problem_text.csv')\n",
    "q_df.head()"
   ]
  },
  {
   "cell_type": "code",
   "execution_count": 85,
   "id": "4f2d1004",
   "metadata": {},
   "outputs": [
    {
     "name": "stdout",
     "output_type": "stream",
     "text": [
      "Return the sum of the numbers in the array, except ignore sections of numbers starting with a 6 and extending to the next 7 (every 6 will be followed by at least one 7). Return 0 for no numbers.\n"
     ]
    },
    {
     "data": {
      "text/plain": [
       "10"
      ]
     },
     "execution_count": 85,
     "metadata": {},
     "output_type": "execute_result"
    }
   ],
   "source": [
    "question_list = {}\n",
    "for index, row in q_df.iterrows():\n",
    "    # question_list[index] = problem_dict[row['id']]\n",
    "    question_list[index] = row['problem_description']\n",
    "print(question_list[0])\n",
    "len(question_list)\n"
   ]
  },
  {
   "cell_type": "code",
   "execution_count": 42,
   "id": "b6b75cfb",
   "metadata": {},
   "outputs": [
    {
     "data": {
      "text/plain": [
       "{0: 'Give you an array of length 3, write a Java function called sum3 to return the sum of the three numbers in the array.',\n",
       " 1: 'Give you an array, write a Java function called frontPiece, if the array length is greater than or equal to 2, return an array containing the first two elements; otherwise, return the original array.',\n",
       " 2: 'Give you an array, write a Java function called countEvens to return the number of even numbers.',\n",
       " 3: 'Give you an array and an int val, write a Java function isEverywhere to check whether, in the array nums, at least one element of every pair of consecutive integers equals val.',\n",
       " 4: 'Give you an array, write a Java function sum13 that calculates the sum of its elements, but if an element is 13, then that element and the one immediately following it should be excluded from the sum.',\n",
       " 5: \"Given an integer array, write a Java function has77 that checks if the array has two 7's next to each other, or there are two 7's separated by one element. The function should return true if either of the conditions is met, otherwise return false.\",\n",
       " 6: 'Write a Java function `zeroMax` that takes an array of integer ` numbers ` as input and returns a new array. The new array is built as follows: For each 0 element in the original array, replace it with the subsequent maximum odd value (if there is no subsequent odd value, it remains unchanged) and return the final built new array. \\r\\n',\n",
       " 7: 'Write a Java function `sameEnds` that takes an array of integer ` numbers ` and an integer ` n ` as an argument. The task of the function is to check whether the first ` n ` elements of the array and the last ` n ` elements of the array are the same and return ` true ` if the same and ` false ` otherwise.\\r\\n',\n",
       " 8: 'Write a Java function `countClumps` that takes an array of integers ` numbers ` as an argument. The array may contain some continuous elements of the same element (called \"clusters\"), and the task of the function is to calculate the total number of clusters contained in the array and return that total. \\r\\n',\n",
       " 9: 'Write a Java function ` fix45 ` that takes an array of integer ` numbers ` as an argument. The array contains the numbers 4 and 5, but the position of the number 5 in the array does not match the number 4. The task of the function is to move the number 5 to a position adjacent to the number 4, keep the relative order of the other elements unchanged, and return to the repaired array.'}"
      ]
     },
     "execution_count": 42,
     "metadata": {},
     "output_type": "execute_result"
    }
   ],
   "source": [
    "question_list"
   ]
  },
  {
   "cell_type": "code",
   "execution_count": 86,
   "id": "34e74e13",
   "metadata": {},
   "outputs": [
    {
     "name": "stderr",
     "output_type": "stream",
     "text": [
      "Some weights of RobertaModel were not initialized from the model checkpoint at ../graphcodebert-base and are newly initialized: ['pooler.dense.bias', 'pooler.dense.weight']\n",
      "You should probably TRAIN this model on a down-stream task to be able to use it for predictions and inference.\n",
      "  0%|          | 0/10 [00:00<?, ?it/s]/opt/miniconda3/envs/myenv/lib/python3.9/site-packages/torch/nn/modules/module.py:1762: FutureWarning: `encoder_attention_mask` is deprecated and will be removed in version 4.55.0 for `RobertaSdpaSelfAttention.forward`.\n",
      "  return forward_call(*args, **kwargs)\n",
      "100%|██████████| 10/10 [00:00<00:00, 14.77it/s]"
     ]
    },
    {
     "name": "stdout",
     "output_type": "stream",
     "text": [
      "10\n",
      "10\n"
     ]
    },
    {
     "name": "stderr",
     "output_type": "stream",
     "text": [
      "\n"
     ]
    }
   ],
   "source": [
    "from transformers import AutoTokenizer, AutoModel\n",
    "from tqdm import tqdm\n",
    "import torch\n",
    "import torch.nn as nn\n",
    "\n",
    "tokenizer = AutoTokenizer.from_pretrained(\"../graphcodebert-base\")  # 使用的是本地的codebert-base 或 graphcodebert-base\n",
    "model = AutoModel.from_pretrained(\"../graphcodebert-base\")\n",
    "\n",
    "new_question_embeddings_768 = []\n",
    "new_question_embeddings_32 = []\n",
    "linear_proj = nn.Linear(768, 32)\n",
    "for idx,question in tqdm(question_list.items()):\n",
    "    # inputs = tokenizer(skill, return_tensors=\"pt\", padding=True, truncation=False)\n",
    "    truncated_code = question[:100]\n",
    "    # 使用 tokenizer 处理数据，并填充到最大长度\n",
    "    inputs = tokenizer(truncated_code, return_tensors=\"pt\", padding=\"max_length\", max_length=100, truncation=True)\n",
    "    with torch.no_grad():\n",
    "        outputs = model(**inputs)\n",
    "        context_embeddings_768 = outputs.last_hidden_state.mean(dim=1).squeeze().numpy()\n",
    "        context_embeddings_32 = linear_proj(torch.tensor(context_embeddings_768).unsqueeze(0)).squeeze(0).numpy()\n",
    "        # print(context_embeddings_768)\n",
    "        # print(context_embeddings_32)\n",
    "    new_question_embeddings_768.append(context_embeddings_768)\n",
    "    new_question_embeddings_32.append(context_embeddings_32)\n",
    "\n",
    "print(len(new_question_embeddings_768))\n",
    "print(len(new_question_embeddings_32))\n",
    "\n"
   ]
  },
  {
   "cell_type": "code",
   "execution_count": 19,
   "id": "e5a44ebe",
   "metadata": {},
   "outputs": [
    {
     "name": "stdout",
     "output_type": "stream",
     "text": [
      "10\n",
      "(32,)\n"
     ]
    }
   ],
   "source": [
    "print(len(new_question_embeddings_768))\n",
    "print(new_question_embeddings_32[0].shape)\n"
   ]
  },
  {
   "cell_type": "code",
   "execution_count": 87,
   "id": "1e587eab",
   "metadata": {},
   "outputs": [],
   "source": [
    "import pickle\n",
    "with open('../data/502/questions_embeddings_index_768.pkl', 'wb') as f:\n",
    "    pickle.dump(new_question_embeddings_768, f)\n",
    "with open('../data/502/questions_embeddings_index_32.pkl', 'wb') as f:\n",
    "    pickle.dump(new_question_embeddings_32, f)"
   ]
  },
  {
   "cell_type": "code",
   "execution_count": 113,
   "id": "9dcb6158",
   "metadata": {},
   "outputs": [
    {
     "data": {
      "text/html": [
       "<div>\n",
       "<style scoped>\n",
       "    .dataframe tbody tr th:only-of-type {\n",
       "        vertical-align: middle;\n",
       "    }\n",
       "\n",
       "    .dataframe tbody tr th {\n",
       "        vertical-align: top;\n",
       "    }\n",
       "\n",
       "    .dataframe thead th {\n",
       "        text-align: right;\n",
       "    }\n",
       "</style>\n",
       "<table border=\"1\" class=\"dataframe\">\n",
       "  <thead>\n",
       "    <tr style=\"text-align: right;\">\n",
       "      <th></th>\n",
       "      <th>kc_id</th>\n",
       "      <th>kc_text</th>\n",
       "    </tr>\n",
       "  </thead>\n",
       "  <tbody>\n",
       "    <tr>\n",
       "      <th>0</th>\n",
       "      <td>1</td>\n",
       "      <td>Loop iteration</td>\n",
       "    </tr>\n",
       "    <tr>\n",
       "      <th>1</th>\n",
       "      <td>2</td>\n",
       "      <td>Conditional statements</td>\n",
       "    </tr>\n",
       "    <tr>\n",
       "      <th>2</th>\n",
       "      <td>3</td>\n",
       "      <td>String operations</td>\n",
       "    </tr>\n",
       "    <tr>\n",
       "      <th>3</th>\n",
       "      <td>4</td>\n",
       "      <td>String substring</td>\n",
       "    </tr>\n",
       "    <tr>\n",
       "      <th>4</th>\n",
       "      <td>5</td>\n",
       "      <td>String concatenation</td>\n",
       "    </tr>\n",
       "  </tbody>\n",
       "</table>\n",
       "</div>"
      ],
      "text/plain": [
       "   kc_id                 kc_text\n",
       "0      1          Loop iteration\n",
       "1      2  Conditional statements\n",
       "2      3       String operations\n",
       "3      4        String substring\n",
       "4      5    String concatenation"
      ]
     },
     "execution_count": 113,
     "metadata": {},
     "output_type": "execute_result"
    }
   ],
   "source": [
    "import pandas as pd\n",
    "kc_df = pd.read_csv('../data/492/492_kc_list.csv')\n",
    "kc_df.head()"
   ]
  },
  {
   "cell_type": "code",
   "execution_count": 114,
   "id": "b507eae2",
   "metadata": {},
   "outputs": [
    {
     "data": {
      "text/plain": [
       "13"
      ]
     },
     "execution_count": 114,
     "metadata": {},
     "output_type": "execute_result"
    }
   ],
   "source": [
    "kc_name_dict = {}\n",
    "for index, row in kc_df.iterrows():\n",
    "    kc_name_dict[index] = row['kc_text']\n",
    "len(kc_name_dict)"
   ]
  },
  {
   "cell_type": "code",
   "execution_count": 115,
   "id": "149c16eb",
   "metadata": {},
   "outputs": [
    {
     "name": "stderr",
     "output_type": "stream",
     "text": [
      "Some weights of RobertaModel were not initialized from the model checkpoint at ../graphcodebert-base and are newly initialized: ['pooler.dense.bias', 'pooler.dense.weight']\n",
      "You should probably TRAIN this model on a down-stream task to be able to use it for predictions and inference.\n",
      "  0%|          | 0/13 [00:00<?, ?it/s]/opt/miniconda3/envs/myenv/lib/python3.9/site-packages/torch/nn/modules/module.py:1762: FutureWarning: `encoder_attention_mask` is deprecated and will be removed in version 4.55.0 for `RobertaSdpaSelfAttention.forward`.\n",
      "  return forward_call(*args, **kwargs)\n",
      "100%|██████████| 13/13 [00:00<00:00, 13.79it/s]"
     ]
    },
    {
     "name": "stdout",
     "output_type": "stream",
     "text": [
      "13\n",
      "13\n"
     ]
    },
    {
     "name": "stderr",
     "output_type": "stream",
     "text": [
      "\n"
     ]
    }
   ],
   "source": [
    "from tqdm import tqdm\n",
    "import torch\n",
    "import torch.nn as nn\n",
    "import pickle\n",
    "from transformers import AutoTokenizer, AutoModel\n",
    "\n",
    "tokenizer = AutoTokenizer.from_pretrained(\"../graphcodebert-base\")  # 使用的是本地的codebert-base 或 graphcodebert-base\n",
    "model = AutoModel.from_pretrained(\"../graphcodebert-base\")\n",
    "\n",
    "new_kc_embeddings_768 = []\n",
    "new_kc_embeddings_32 = []\n",
    "linear_proj = nn.Linear(768, 32)\n",
    "for idx,kc in tqdm(kc_name_dict.items()):\n",
    "    # inputs = tokenizer(skill, return_tensors=\"pt\", padding=True, truncation=False)\n",
    "    truncated_code = kc[:15]\n",
    "    # 使用 tokenizer 处理数据，并填充到最大长度\n",
    "    inputs = tokenizer(truncated_code, return_tensors=\"pt\", padding=\"max_length\", max_length=15, truncation=True)\n",
    "    with torch.no_grad():\n",
    "        outputs = model(**inputs)\n",
    "        context_embeddings_768 = outputs.last_hidden_state.mean(dim=1).squeeze().numpy()\n",
    "        context_embeddings_32 = linear_proj(torch.tensor(context_embeddings_768).unsqueeze(0)).squeeze(0).numpy()\n",
    "        # print(context_embeddings_768)\n",
    "        # print(context_embeddings_32)\n",
    "    new_kc_embeddings_768.append(context_embeddings_768)\n",
    "    new_kc_embeddings_32.append(context_embeddings_32)\n",
    "\n",
    "print(len(new_kc_embeddings_768))\n",
    "print(len(new_kc_embeddings_32))\n",
    "\n",
    "\n",
    "with open('../data/492/kc_embeddings_index_768.pkl', 'wb') as f:\n",
    "    pickle.dump(new_kc_embeddings_768, f)\n",
    "with open('../data/492/kc_embeddings_index_32.pkl', 'wb') as f:\n",
    "    pickle.dump(new_kc_embeddings_32, f)"
   ]
  },
  {
   "cell_type": "code",
   "execution_count": 116,
   "id": "84b0b488",
   "metadata": {},
   "outputs": [
    {
     "data": {
      "text/plain": [
       "(13, 13)"
      ]
     },
     "execution_count": 116,
     "metadata": {},
     "output_type": "execute_result"
    }
   ],
   "source": [
    "# 计算知识点的余弦相似度\n",
    "import numpy as np\n",
    "from sklearn.metrics.pairwise import cosine_similarity\n",
    "kc_embeddings_768 = torch.tensor(new_kc_embeddings_768)\n",
    "kc_similarity_768 = cosine_similarity(kc_embeddings_768)\n",
    "threshold = 0.5\n",
    "adj_matrix = (kc_similarity_768 > threshold).astype(np.float32)\n",
    "adj_matrix.shape\n",
    "np.save('../data/492/adj_kc_codebert_codenet.npy', adj_matrix)\n",
    "adj_matrix.shape"
   ]
  },
  {
   "cell_type": "code",
   "execution_count": 100,
   "id": "1b1b5f3a",
   "metadata": {},
   "outputs": [
    {
     "data": {
      "text/plain": [
       "(14, 14)"
      ]
     },
     "execution_count": 100,
     "metadata": {},
     "output_type": "execute_result"
    }
   ],
   "source": [
    "adj = np.load('../data/492/adj_kc_codebert_codenet.npy')\n",
    "adj.shape"
   ]
  },
  {
   "cell_type": "code",
   "execution_count": 26,
   "id": "36cf557f",
   "metadata": {},
   "outputs": [
    {
     "name": "stdout",
     "output_type": "stream",
     "text": [
      "2255\n"
     ]
    },
    {
     "data": {
      "text/plain": [
       "(768,)"
      ]
     },
     "execution_count": 26,
     "metadata": {},
     "output_type": "execute_result"
    }
   ],
   "source": [
    "with open('../data/C/questions_embeddings_index_768.pkl', 'rb') as f:\n",
    "    new_kc_embeddings_768 = pickle.load(f)\n",
    "print(len(new_kc_embeddings_768))\n",
    "new_kc_embeddings_768[0].shape"
   ]
  },
  {
   "cell_type": "code",
   "execution_count": 30,
   "id": "0275a16e",
   "metadata": {},
   "outputs": [
    {
     "data": {
      "text/plain": [
       "(73, 73)"
      ]
     },
     "execution_count": 30,
     "metadata": {},
     "output_type": "execute_result"
    }
   ],
   "source": [
    "with open('../data/C/adj_kc_codebert_codenet.npy', 'rb') as f:\n",
    "    adj_matrix = np.load(f)\n",
    "adj_matrix.shape"
   ]
  },
  {
   "cell_type": "code",
   "execution_count": 49,
   "id": "4cfa0aaa",
   "metadata": {},
   "outputs": [],
   "source": [
    "def load_dataset_from_pkl(file_path):\n",
    "    with open(file_path, 'rb') as f:\n",
    "        dataset = pickle.load(f)\n",
    "    return dataset"
   ]
  },
  {
   "cell_type": "code",
   "execution_count": 101,
   "id": "02f31ee6",
   "metadata": {},
   "outputs": [
    {
     "data": {
      "text/plain": [
       "(10, 13)"
      ]
     },
     "execution_count": 101,
     "metadata": {},
     "output_type": "execute_result"
    }
   ],
   "source": [
    "dataset_info['one_hot_matrix'].shape"
   ]
  },
  {
   "cell_type": "code",
   "execution_count": 117,
   "id": "063bc8d6",
   "metadata": {},
   "outputs": [
    {
     "data": {
      "text/html": [
       "<div>\n",
       "<style scoped>\n",
       "    .dataframe tbody tr th:only-of-type {\n",
       "        vertical-align: middle;\n",
       "    }\n",
       "\n",
       "    .dataframe tbody tr th {\n",
       "        vertical-align: top;\n",
       "    }\n",
       "\n",
       "    .dataframe thead th {\n",
       "        text-align: right;\n",
       "    }\n",
       "</style>\n",
       "<table border=\"1\" class=\"dataframe\">\n",
       "  <thead>\n",
       "    <tr style=\"text-align: right;\">\n",
       "      <th></th>\n",
       "      <th>1</th>\n",
       "      <th>2</th>\n",
       "      <th>3</th>\n",
       "      <th>4</th>\n",
       "      <th>5</th>\n",
       "      <th>6</th>\n",
       "      <th>7</th>\n",
       "      <th>8</th>\n",
       "      <th>9</th>\n",
       "      <th>10</th>\n",
       "      <th>11</th>\n",
       "      <th>12</th>\n",
       "      <th>13</th>\n",
       "    </tr>\n",
       "  </thead>\n",
       "  <tbody>\n",
       "    <tr>\n",
       "      <th>31.0</th>\n",
       "      <td>1</td>\n",
       "      <td>0</td>\n",
       "      <td>0</td>\n",
       "      <td>1</td>\n",
       "      <td>1</td>\n",
       "      <td>1</td>\n",
       "      <td>1</td>\n",
       "      <td>0</td>\n",
       "      <td>0</td>\n",
       "      <td>0</td>\n",
       "      <td>0</td>\n",
       "      <td>0</td>\n",
       "      <td>0</td>\n",
       "    </tr>\n",
       "    <tr>\n",
       "      <th>32.0</th>\n",
       "      <td>1</td>\n",
       "      <td>0</td>\n",
       "      <td>0</td>\n",
       "      <td>1</td>\n",
       "      <td>1</td>\n",
       "      <td>0</td>\n",
       "      <td>0</td>\n",
       "      <td>1</td>\n",
       "      <td>0</td>\n",
       "      <td>0</td>\n",
       "      <td>0</td>\n",
       "      <td>0</td>\n",
       "      <td>0</td>\n",
       "    </tr>\n",
       "    <tr>\n",
       "      <th>33.0</th>\n",
       "      <td>1</td>\n",
       "      <td>1</td>\n",
       "      <td>0</td>\n",
       "      <td>0</td>\n",
       "      <td>1</td>\n",
       "      <td>0</td>\n",
       "      <td>0</td>\n",
       "      <td>0</td>\n",
       "      <td>1</td>\n",
       "      <td>0</td>\n",
       "      <td>0</td>\n",
       "      <td>0</td>\n",
       "      <td>0</td>\n",
       "    </tr>\n",
       "    <tr>\n",
       "      <th>34.0</th>\n",
       "      <td>1</td>\n",
       "      <td>1</td>\n",
       "      <td>1</td>\n",
       "      <td>0</td>\n",
       "      <td>0</td>\n",
       "      <td>0</td>\n",
       "      <td>0</td>\n",
       "      <td>0</td>\n",
       "      <td>0</td>\n",
       "      <td>1</td>\n",
       "      <td>1</td>\n",
       "      <td>0</td>\n",
       "      <td>0</td>\n",
       "    </tr>\n",
       "    <tr>\n",
       "      <th>36.0</th>\n",
       "      <td>1</td>\n",
       "      <td>1</td>\n",
       "      <td>1</td>\n",
       "      <td>1</td>\n",
       "      <td>0</td>\n",
       "      <td>0</td>\n",
       "      <td>0</td>\n",
       "      <td>0</td>\n",
       "      <td>0</td>\n",
       "      <td>0</td>\n",
       "      <td>0</td>\n",
       "      <td>0</td>\n",
       "      <td>0</td>\n",
       "    </tr>\n",
       "    <tr>\n",
       "      <th>37.0</th>\n",
       "      <td>0</td>\n",
       "      <td>1</td>\n",
       "      <td>1</td>\n",
       "      <td>1</td>\n",
       "      <td>0</td>\n",
       "      <td>0</td>\n",
       "      <td>0</td>\n",
       "      <td>0</td>\n",
       "      <td>0</td>\n",
       "      <td>0</td>\n",
       "      <td>0</td>\n",
       "      <td>1</td>\n",
       "      <td>0</td>\n",
       "    </tr>\n",
       "    <tr>\n",
       "      <th>38.0</th>\n",
       "      <td>1</td>\n",
       "      <td>1</td>\n",
       "      <td>1</td>\n",
       "      <td>1</td>\n",
       "      <td>0</td>\n",
       "      <td>0</td>\n",
       "      <td>0</td>\n",
       "      <td>0</td>\n",
       "      <td>0</td>\n",
       "      <td>0</td>\n",
       "      <td>0</td>\n",
       "      <td>0</td>\n",
       "      <td>0</td>\n",
       "    </tr>\n",
       "    <tr>\n",
       "      <th>39.0</th>\n",
       "      <td>1</td>\n",
       "      <td>1</td>\n",
       "      <td>1</td>\n",
       "      <td>0</td>\n",
       "      <td>0</td>\n",
       "      <td>0</td>\n",
       "      <td>0</td>\n",
       "      <td>0</td>\n",
       "      <td>0</td>\n",
       "      <td>0</td>\n",
       "      <td>0</td>\n",
       "      <td>0</td>\n",
       "      <td>1</td>\n",
       "    </tr>\n",
       "    <tr>\n",
       "      <th>40.0</th>\n",
       "      <td>0</td>\n",
       "      <td>1</td>\n",
       "      <td>1</td>\n",
       "      <td>1</td>\n",
       "      <td>0</td>\n",
       "      <td>0</td>\n",
       "      <td>0</td>\n",
       "      <td>0</td>\n",
       "      <td>0</td>\n",
       "      <td>0</td>\n",
       "      <td>0</td>\n",
       "      <td>0</td>\n",
       "      <td>0</td>\n",
       "    </tr>\n",
       "    <tr>\n",
       "      <th>128.0</th>\n",
       "      <td>1</td>\n",
       "      <td>1</td>\n",
       "      <td>1</td>\n",
       "      <td>0</td>\n",
       "      <td>0</td>\n",
       "      <td>0</td>\n",
       "      <td>0</td>\n",
       "      <td>0</td>\n",
       "      <td>0</td>\n",
       "      <td>0</td>\n",
       "      <td>0</td>\n",
       "      <td>0</td>\n",
       "      <td>0</td>\n",
       "    </tr>\n",
       "  </tbody>\n",
       "</table>\n",
       "</div>"
      ],
      "text/plain": [
       "       1   2   3   4   5   6   7   8   9   10  11  12  13\n",
       "31.0    1   0   0   1   1   1   1   0   0   0   0   0   0\n",
       "32.0    1   0   0   1   1   0   0   1   0   0   0   0   0\n",
       "33.0    1   1   0   0   1   0   0   0   1   0   0   0   0\n",
       "34.0    1   1   1   0   0   0   0   0   0   1   1   0   0\n",
       "36.0    1   1   1   1   0   0   0   0   0   0   0   0   0\n",
       "37.0    0   1   1   1   0   0   0   0   0   0   0   1   0\n",
       "38.0    1   1   1   1   0   0   0   0   0   0   0   0   0\n",
       "39.0    1   1   1   0   0   0   0   0   0   0   0   0   1\n",
       "40.0    0   1   1   1   0   0   0   0   0   0   0   0   0\n",
       "128.0   1   1   1   0   0   0   0   0   0   0   0   0   0"
      ]
     },
     "execution_count": 117,
     "metadata": {},
     "output_type": "execute_result"
    }
   ],
   "source": [
    "import os\n",
    "import pickle\n",
    "from processing_codenet import load_dkt_dataset, KTDataset, pad_collate, preprocess_train_dataset\n",
    "saved_data_dir = \"../data/492-2\"\n",
    "dataset_info = load_dataset_from_pkl(os.path.join(saved_data_dir, 'dataset_info.pkl'))\n",
    "dataset_info['one_hot_matrix']"
   ]
  },
  {
   "cell_type": "code",
   "execution_count": 118,
   "id": "cf60529e",
   "metadata": {},
   "outputs": [
    {
     "data": {
      "text/plain": [
       "numpy.ndarray"
      ]
     },
     "execution_count": 118,
     "metadata": {},
     "output_type": "execute_result"
    }
   ],
   "source": [
    "import os\n",
    "import pickle\n",
    "from processing_codenet import load_dkt_dataset, KTDataset, pad_collate, preprocess_train_dataset\n",
    "saved_data_dir = \"../data/492-2\"\n",
    "dataset_info = load_dataset_from_pkl(os.path.join(saved_data_dir, 'dataset_info.pkl'))\n",
    "dataset_info['one_hot_matrix'] = dataset_info['one_hot_matrix'].to_numpy()\n",
    "type(dataset_info['one_hot_matrix'])"
   ]
  },
  {
   "cell_type": "code",
   "execution_count": 120,
   "id": "ace66fd1",
   "metadata": {},
   "outputs": [
    {
     "name": "stdout",
     "output_type": "stream",
     "text": [
      "True\n",
      "True\n"
     ]
    }
   ],
   "source": [
    "print(dataset_info['one_hot_matrix'].shape[0] == dataset_info['qt_num'])\n",
    "print(dataset_info['one_hot_matrix'].shape[1] == dataset_info['concept_num'])"
   ]
  },
  {
   "cell_type": "code",
   "execution_count": 121,
   "id": "e6fab391",
   "metadata": {},
   "outputs": [
    {
     "name": "stdout",
     "output_type": "stream",
     "text": [
      "True\n",
      "True\n"
     ]
    }
   ],
   "source": [
    "print(dataset_info['one_hot_matrix'].shape[0] == dataset_info['qt_num'])\n",
    "print(dataset_info['one_hot_matrix'].shape[1] == dataset_info['concept_num'])\n",
    "with open(os.path.join(saved_data_dir, 'dataset_info.pkl'), 'wb') as f:\n",
    "    pickle.dump(dataset_info, f)"
   ]
  }
 ],
 "metadata": {
  "kernelspec": {
   "display_name": "myenv",
   "language": "python",
   "name": "python3"
  },
  "language_info": {
   "codemirror_mode": {
    "name": "ipython",
    "version": 3
   },
   "file_extension": ".py",
   "mimetype": "text/x-python",
   "name": "python",
   "nbconvert_exporter": "python",
   "pygments_lexer": "ipython3",
   "version": "3.9.23"
  }
 },
 "nbformat": 4,
 "nbformat_minor": 5
}
