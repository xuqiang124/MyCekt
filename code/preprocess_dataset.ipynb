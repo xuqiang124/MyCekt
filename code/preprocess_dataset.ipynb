{
 "cells": [
  {
   "cell_type": "code",
   "execution_count": 2,
   "id": "1aad6d47",
   "metadata": {},
   "outputs": [
    {
     "data": {
      "text/html": [
       "<div>\n",
       "<style scoped>\n",
       "    .dataframe tbody tr th:only-of-type {\n",
       "        vertical-align: middle;\n",
       "    }\n",
       "\n",
       "    .dataframe tbody tr th {\n",
       "        vertical-align: top;\n",
       "    }\n",
       "\n",
       "    .dataframe thead th {\n",
       "        text-align: right;\n",
       "    }\n",
       "</style>\n",
       "<table border=\"1\" class=\"dataframe\">\n",
       "  <thead>\n",
       "    <tr style=\"text-align: right;\">\n",
       "      <th></th>\n",
       "      <th>problem_id</th>\n",
       "      <th>problem_description</th>\n",
       "      <th>language</th>\n",
       "    </tr>\n",
       "  </thead>\n",
       "  <tbody>\n",
       "    <tr>\n",
       "      <th>0</th>\n",
       "      <td>p02872</td>\n",
       "      <td>Problem Setting\\r\\nOverview\\r\\nSpecification o...</td>\n",
       "      <td>english</td>\n",
       "    </tr>\n",
       "    <tr>\n",
       "      <th>1</th>\n",
       "      <td>p01327</td>\n",
       "      <td>Problem G: 天体観測\\r\\n2012年のある日のこと。\\r\\n北の田舎町に住むあな...</td>\n",
       "      <td>japanese</td>\n",
       "    </tr>\n",
       "    <tr>\n",
       "      <th>2</th>\n",
       "      <td>p02871</td>\n",
       "      <td>Problem Setting\\r\\nOverview\\r\\nSpecification o...</td>\n",
       "      <td>english</td>\n",
       "    </tr>\n",
       "    <tr>\n",
       "      <th>3</th>\n",
       "      <td>p01482</td>\n",
       "      <td>Memory Leak\\r\\nTime Limit: 8 sec / Memory Limi...</td>\n",
       "      <td>japanese</td>\n",
       "    </tr>\n",
       "    <tr>\n",
       "      <th>4</th>\n",
       "      <td>p01535</td>\n",
       "      <td>Markup language has Declined\\r\\nE: マークアップ言語は衰退...</td>\n",
       "      <td>japanese</td>\n",
       "    </tr>\n",
       "  </tbody>\n",
       "</table>\n",
       "</div>"
      ],
      "text/plain": [
       "  problem_id                                problem_description  language\n",
       "0     p02872  Problem Setting\\r\\nOverview\\r\\nSpecification o...   english\n",
       "1     p01327  Problem G: 天体観測\\r\\n2012年のある日のこと。\\r\\n北の田舎町に住むあな...  japanese\n",
       "2     p02871  Problem Setting\\r\\nOverview\\r\\nSpecification o...   english\n",
       "3     p01482  Memory Leak\\r\\nTime Limit: 8 sec / Memory Limi...  japanese\n",
       "4     p01535  Markup language has Declined\\r\\nE: マークアップ言語は衰退...  japanese"
      ]
     },
     "execution_count": 2,
     "metadata": {},
     "output_type": "execute_result"
    }
   ],
   "source": [
    "import pandas as pd\n",
    "\n",
    "question_df = pd.read_csv('../data/problem_descriptions.csv')\n",
    "question_df.head()"
   ]
  },
  {
   "cell_type": "code",
   "execution_count": 3,
   "id": "0f482e40",
   "metadata": {},
   "outputs": [],
   "source": [
    "problem_dict = {}\n",
    "for index, row in question_df.iterrows():\n",
    "    problem_dict[row['problem_id']] = row['problem_description']"
   ]
  },
  {
   "cell_type": "code",
   "execution_count": 16,
   "id": "b72787e8",
   "metadata": {},
   "outputs": [
    {
     "data": {
      "text/plain": [
       "3999"
      ]
     },
     "execution_count": 16,
     "metadata": {},
     "output_type": "execute_result"
    }
   ],
   "source": [
    "len(problem_dict)"
   ]
  },
  {
   "cell_type": "code",
   "execution_count": 4,
   "id": "71dc0c62",
   "metadata": {},
   "outputs": [
    {
     "data": {
      "text/html": [
       "<div>\n",
       "<style scoped>\n",
       "    .dataframe tbody tr th:only-of-type {\n",
       "        vertical-align: middle;\n",
       "    }\n",
       "\n",
       "    .dataframe tbody tr th {\n",
       "        vertical-align: top;\n",
       "    }\n",
       "\n",
       "    .dataframe thead th {\n",
       "        text-align: right;\n",
       "    }\n",
       "</style>\n",
       "<table border=\"1\" class=\"dataframe\">\n",
       "  <thead>\n",
       "    <tr style=\"text-align: right;\">\n",
       "      <th></th>\n",
       "      <th>id</th>\n",
       "      <th>KC_1</th>\n",
       "      <th>KC_2</th>\n",
       "      <th>KC_3</th>\n",
       "      <th>KC_4</th>\n",
       "      <th>KC_5</th>\n",
       "      <th>KC_6</th>\n",
       "      <th>KC_7</th>\n",
       "      <th>KC_8</th>\n",
       "      <th>KC_9</th>\n",
       "      <th>...</th>\n",
       "      <th>KC_69</th>\n",
       "      <th>KC_70</th>\n",
       "      <th>KC_71</th>\n",
       "      <th>KC_72</th>\n",
       "      <th>KC_73</th>\n",
       "      <th>KC_74</th>\n",
       "      <th>KC_75</th>\n",
       "      <th>KC_76</th>\n",
       "      <th>KC_77</th>\n",
       "      <th>KC_78</th>\n",
       "    </tr>\n",
       "  </thead>\n",
       "  <tbody>\n",
       "    <tr>\n",
       "      <th>0</th>\n",
       "      <td>p00000</td>\n",
       "      <td>0</td>\n",
       "      <td>1</td>\n",
       "      <td>0</td>\n",
       "      <td>0</td>\n",
       "      <td>0</td>\n",
       "      <td>0</td>\n",
       "      <td>0</td>\n",
       "      <td>1</td>\n",
       "      <td>0</td>\n",
       "      <td>...</td>\n",
       "      <td>0</td>\n",
       "      <td>0</td>\n",
       "      <td>0</td>\n",
       "      <td>0</td>\n",
       "      <td>0</td>\n",
       "      <td>0</td>\n",
       "      <td>0</td>\n",
       "      <td>0</td>\n",
       "      <td>0</td>\n",
       "      <td>0</td>\n",
       "    </tr>\n",
       "    <tr>\n",
       "      <th>1</th>\n",
       "      <td>p00001</td>\n",
       "      <td>0</td>\n",
       "      <td>0</td>\n",
       "      <td>0</td>\n",
       "      <td>0</td>\n",
       "      <td>0</td>\n",
       "      <td>0</td>\n",
       "      <td>0</td>\n",
       "      <td>0</td>\n",
       "      <td>0</td>\n",
       "      <td>...</td>\n",
       "      <td>0</td>\n",
       "      <td>0</td>\n",
       "      <td>0</td>\n",
       "      <td>0</td>\n",
       "      <td>0</td>\n",
       "      <td>0</td>\n",
       "      <td>0</td>\n",
       "      <td>0</td>\n",
       "      <td>0</td>\n",
       "      <td>0</td>\n",
       "    </tr>\n",
       "    <tr>\n",
       "      <th>2</th>\n",
       "      <td>p00002</td>\n",
       "      <td>0</td>\n",
       "      <td>0</td>\n",
       "      <td>0</td>\n",
       "      <td>0</td>\n",
       "      <td>0</td>\n",
       "      <td>0</td>\n",
       "      <td>0</td>\n",
       "      <td>0</td>\n",
       "      <td>0</td>\n",
       "      <td>...</td>\n",
       "      <td>0</td>\n",
       "      <td>0</td>\n",
       "      <td>0</td>\n",
       "      <td>0</td>\n",
       "      <td>0</td>\n",
       "      <td>0</td>\n",
       "      <td>0</td>\n",
       "      <td>0</td>\n",
       "      <td>0</td>\n",
       "      <td>0</td>\n",
       "    </tr>\n",
       "    <tr>\n",
       "      <th>3</th>\n",
       "      <td>p00003</td>\n",
       "      <td>0</td>\n",
       "      <td>0</td>\n",
       "      <td>0</td>\n",
       "      <td>0</td>\n",
       "      <td>0</td>\n",
       "      <td>1</td>\n",
       "      <td>0</td>\n",
       "      <td>0</td>\n",
       "      <td>0</td>\n",
       "      <td>...</td>\n",
       "      <td>0</td>\n",
       "      <td>0</td>\n",
       "      <td>0</td>\n",
       "      <td>0</td>\n",
       "      <td>0</td>\n",
       "      <td>0</td>\n",
       "      <td>0</td>\n",
       "      <td>0</td>\n",
       "      <td>0</td>\n",
       "      <td>0</td>\n",
       "    </tr>\n",
       "    <tr>\n",
       "      <th>4</th>\n",
       "      <td>p00004</td>\n",
       "      <td>0</td>\n",
       "      <td>0</td>\n",
       "      <td>0</td>\n",
       "      <td>0</td>\n",
       "      <td>0</td>\n",
       "      <td>0</td>\n",
       "      <td>0</td>\n",
       "      <td>0</td>\n",
       "      <td>0</td>\n",
       "      <td>...</td>\n",
       "      <td>0</td>\n",
       "      <td>0</td>\n",
       "      <td>0</td>\n",
       "      <td>0</td>\n",
       "      <td>0</td>\n",
       "      <td>0</td>\n",
       "      <td>0</td>\n",
       "      <td>0</td>\n",
       "      <td>0</td>\n",
       "      <td>0</td>\n",
       "    </tr>\n",
       "  </tbody>\n",
       "</table>\n",
       "<p>5 rows × 79 columns</p>\n",
       "</div>"
      ],
      "text/plain": [
       "       id  KC_1  KC_2  KC_3  KC_4  KC_5  KC_6  KC_7  KC_8  KC_9  ...  KC_69  \\\n",
       "0  p00000     0     1     0     0     0     0     0     1     0  ...      0   \n",
       "1  p00001     0     0     0     0     0     0     0     0     0  ...      0   \n",
       "2  p00002     0     0     0     0     0     0     0     0     0  ...      0   \n",
       "3  p00003     0     0     0     0     0     1     0     0     0  ...      0   \n",
       "4  p00004     0     0     0     0     0     0     0     0     0  ...      0   \n",
       "\n",
       "   KC_70  KC_71  KC_72  KC_73  KC_74  KC_75  KC_76  KC_77  KC_78  \n",
       "0      0      0      0      0      0      0      0      0      0  \n",
       "1      0      0      0      0      0      0      0      0      0  \n",
       "2      0      0      0      0      0      0      0      0      0  \n",
       "3      0      0      0      0      0      0      0      0      0  \n",
       "4      0      0      0      0      0      0      0      0      0  \n",
       "\n",
       "[5 rows x 79 columns]"
      ]
     },
     "execution_count": 4,
     "metadata": {},
     "output_type": "execute_result"
    }
   ],
   "source": [
    "q_df = pd.read_csv('../data/Python/python_problem_kc_matrix.csv')\n",
    "q_df.head()"
   ]
  },
  {
   "cell_type": "code",
   "execution_count": 5,
   "id": "4f2d1004",
   "metadata": {},
   "outputs": [
    {
     "name": "stdout",
     "output_type": "stream",
     "text": [
      "QQ\n",
      "Write a program which prints multiplication tables in the following format:\n",
      "Input\n",
      "No input.\n",
      "Output\n",
      "Template for C\n",
      "Template for C++\n",
      "Template for Java\n"
     ]
    },
    {
     "data": {
      "text/plain": [
       "2233"
      ]
     },
     "execution_count": 5,
     "metadata": {},
     "output_type": "execute_result"
    }
   ],
   "source": [
    "question_list = {}\n",
    "for index, row in q_df.iterrows():\n",
    "    question_list[index] = problem_dict[row['id']]\n",
    "print(question_list[0])\n",
    "len(question_list)\n"
   ]
  },
  {
   "cell_type": "code",
   "execution_count": 6,
   "id": "b6b75cfb",
   "metadata": {},
   "outputs": [
    {
     "data": {
      "text/plain": [
       "'QQ\\r\\nWrite a program which prints multiplication tables in the following format:\\r\\nInput\\r\\nNo input.\\r\\nOutput\\r\\nTemplate for C\\r\\nTemplate for C++\\r\\nTemplate for Java'"
      ]
     },
     "execution_count": 6,
     "metadata": {},
     "output_type": "execute_result"
    }
   ],
   "source": [
    "question_list[0]"
   ]
  },
  {
   "cell_type": "code",
   "execution_count": 7,
   "id": "34e74e13",
   "metadata": {},
   "outputs": [
    {
     "name": "stderr",
     "output_type": "stream",
     "text": [
      "Some weights of RobertaModel were not initialized from the model checkpoint at ../graphcodebert-base and are newly initialized: ['pooler.dense.bias', 'pooler.dense.weight']\n",
      "You should probably TRAIN this model on a down-stream task to be able to use it for predictions and inference.\n",
      "  0%|          | 0/2233 [00:00<?, ?it/s]/opt/miniconda3/envs/myenv/lib/python3.9/site-packages/torch/nn/modules/module.py:1762: FutureWarning: `encoder_attention_mask` is deprecated and will be removed in version 4.55.0 for `RobertaSdpaSelfAttention.forward`.\n",
      "  return forward_call(*args, **kwargs)\n",
      "100%|██████████| 2233/2233 [01:08<00:00, 32.51it/s]"
     ]
    },
    {
     "name": "stdout",
     "output_type": "stream",
     "text": [
      "2233\n",
      "2233\n"
     ]
    },
    {
     "name": "stderr",
     "output_type": "stream",
     "text": [
      "\n"
     ]
    }
   ],
   "source": [
    "from transformers import AutoTokenizer, AutoModel\n",
    "from tqdm import tqdm\n",
    "import torch\n",
    "import torch.nn as nn\n",
    "\n",
    "\n",
    "tokenizer = AutoTokenizer.from_pretrained(\"../graphcodebert-base\")  # 使用的是本地的codebert-base 或 graphcodebert-base\n",
    "model = AutoModel.from_pretrained(\"../graphcodebert-base\")\n",
    "\n",
    "new_question_embeddings_768 = []\n",
    "new_question_embeddings_32 = []\n",
    "linear_proj = nn.Linear(768, 32)\n",
    "for idx,question in tqdm(question_list.items()):\n",
    "    # inputs = tokenizer(skill, return_tensors=\"pt\", padding=True, truncation=False)\n",
    "    truncated_code = question[:100]\n",
    "    # 使用 tokenizer 处理数据，并填充到最大长度\n",
    "    inputs = tokenizer(truncated_code, return_tensors=\"pt\", padding=\"max_length\", max_length=100, truncation=True)\n",
    "    with torch.no_grad():\n",
    "        outputs = model(**inputs)\n",
    "        context_embeddings_768 = outputs.last_hidden_state.mean(dim=1).squeeze().numpy()\n",
    "        context_embeddings_32 = linear_proj(torch.tensor(context_embeddings_768).unsqueeze(0)).squeeze(0).numpy()\n",
    "        # print(context_embeddings_768)\n",
    "        # print(context_embeddings_32)\n",
    "    new_question_embeddings_768.append(context_embeddings_768)\n",
    "    new_question_embeddings_32.append(context_embeddings_32)\n",
    "\n",
    "print(len(new_question_embeddings_768))\n",
    "print(len(new_question_embeddings_32))\n",
    "\n"
   ]
  },
  {
   "cell_type": "code",
   "execution_count": 8,
   "id": "1e587eab",
   "metadata": {},
   "outputs": [],
   "source": [
    "import pickle\n",
    "with open('../data/Python/questions_embeddings_index_768.pkl', 'wb') as f:\n",
    "    pickle.dump(new_question_embeddings_768, f)\n",
    "with open('../data/Python/questions_embeddings_index_32.pkl', 'wb') as f:\n",
    "    pickle.dump(new_question_embeddings_32, f)"
   ]
  },
  {
   "cell_type": "code",
   "execution_count": 9,
   "id": "9dcb6158",
   "metadata": {},
   "outputs": [
    {
     "data": {
      "text/html": [
       "<div>\n",
       "<style scoped>\n",
       "    .dataframe tbody tr th:only-of-type {\n",
       "        vertical-align: middle;\n",
       "    }\n",
       "\n",
       "    .dataframe tbody tr th {\n",
       "        vertical-align: top;\n",
       "    }\n",
       "\n",
       "    .dataframe thead th {\n",
       "        text-align: right;\n",
       "    }\n",
       "</style>\n",
       "<table border=\"1\" class=\"dataframe\">\n",
       "  <thead>\n",
       "    <tr style=\"text-align: right;\">\n",
       "      <th></th>\n",
       "      <th>id</th>\n",
       "      <th>KC</th>\n",
       "    </tr>\n",
       "  </thead>\n",
       "  <tbody>\n",
       "    <tr>\n",
       "      <th>0</th>\n",
       "      <td>1</td>\n",
       "      <td>String substring</td>\n",
       "    </tr>\n",
       "    <tr>\n",
       "      <th>1</th>\n",
       "      <td>2</td>\n",
       "      <td>Loop iteration</td>\n",
       "    </tr>\n",
       "    <tr>\n",
       "      <th>2</th>\n",
       "      <td>3</td>\n",
       "      <td>String concatenation</td>\n",
       "    </tr>\n",
       "    <tr>\n",
       "      <th>3</th>\n",
       "      <td>4</td>\n",
       "      <td>string slicing</td>\n",
       "    </tr>\n",
       "    <tr>\n",
       "      <th>4</th>\n",
       "      <td>5</td>\n",
       "      <td>String replacement</td>\n",
       "    </tr>\n",
       "  </tbody>\n",
       "</table>\n",
       "</div>"
      ],
      "text/plain": [
       "   id                    KC\n",
       "0   1      String substring\n",
       "1   2        Loop iteration\n",
       "2   3  String concatenation\n",
       "3   4        string slicing\n",
       "4   5    String replacement"
      ]
     },
     "execution_count": 9,
     "metadata": {},
     "output_type": "execute_result"
    }
   ],
   "source": [
    "kc_df = pd.read_csv('../data/Python/all_concepts_python.csv')\n",
    "kc_df.head()"
   ]
  },
  {
   "cell_type": "code",
   "execution_count": 10,
   "id": "b507eae2",
   "metadata": {},
   "outputs": [],
   "source": [
    "kc_name_dict = {}\n",
    "for index, row in kc_df.iterrows():\n",
    "    kc_name_dict[index] = row['KC']"
   ]
  },
  {
   "cell_type": "code",
   "execution_count": 11,
   "id": "149c16eb",
   "metadata": {},
   "outputs": [
    {
     "name": "stderr",
     "output_type": "stream",
     "text": [
      "  0%|          | 0/78 [00:00<?, ?it/s]/opt/miniconda3/envs/myenv/lib/python3.9/site-packages/torch/nn/modules/module.py:1762: FutureWarning: `encoder_attention_mask` is deprecated and will be removed in version 4.55.0 for `RobertaSdpaSelfAttention.forward`.\n",
      "  return forward_call(*args, **kwargs)\n",
      "100%|██████████| 78/78 [00:02<00:00, 34.58it/s]"
     ]
    },
    {
     "name": "stdout",
     "output_type": "stream",
     "text": [
      "78\n",
      "78\n"
     ]
    },
    {
     "name": "stderr",
     "output_type": "stream",
     "text": [
      "\n"
     ]
    }
   ],
   "source": [
    "from tqdm import tqdm\n",
    "import torch\n",
    "import torch.nn as nn\n",
    "import pickle\n",
    "\n",
    "new_kc_embeddings_768 = []\n",
    "new_kc_embeddings_32 = []\n",
    "linear_proj = nn.Linear(768, 32)\n",
    "for idx,kc in tqdm(kc_name_dict.items()):\n",
    "    # inputs = tokenizer(skill, return_tensors=\"pt\", padding=True, truncation=False)\n",
    "    truncated_code = kc[:15]\n",
    "    # 使用 tokenizer 处理数据，并填充到最大长度\n",
    "    inputs = tokenizer(truncated_code, return_tensors=\"pt\", padding=\"max_length\", max_length=15, truncation=True)\n",
    "    with torch.no_grad():\n",
    "        outputs = model(**inputs)\n",
    "        context_embeddings_768 = outputs.last_hidden_state.mean(dim=1).squeeze().numpy()\n",
    "        context_embeddings_32 = linear_proj(torch.tensor(context_embeddings_768).unsqueeze(0)).squeeze(0).numpy()\n",
    "        # print(context_embeddings_768)\n",
    "        # print(context_embeddings_32)\n",
    "    new_kc_embeddings_768.append(context_embeddings_768)\n",
    "    new_kc_embeddings_32.append(context_embeddings_32)\n",
    "\n",
    "print(len(new_kc_embeddings_768))\n",
    "print(len(new_kc_embeddings_32))\n",
    "\n",
    "\n",
    "with open('../data/Python/kc_embeddings_index_768.pkl', 'wb') as f:\n",
    "    pickle.dump(new_question_embeddings_768, f)\n",
    "with open('../data/Python/kc_embeddings_index_32.pkl', 'wb') as f:\n",
    "    pickle.dump(new_question_embeddings_32, f)"
   ]
  },
  {
   "cell_type": "code",
   "execution_count": 12,
   "id": "84b0b488",
   "metadata": {},
   "outputs": [
    {
     "name": "stderr",
     "output_type": "stream",
     "text": [
      "/var/folders/3p/44vy4f8j1sz8xbdfzyjvgdt80000gn/T/ipykernel_19672/3082362772.py:4: UserWarning: Creating a tensor from a list of numpy.ndarrays is extremely slow. Please consider converting the list to a single numpy.ndarray with numpy.array() before converting to a tensor. (Triggered internally at /Users/runner/work/pytorch/pytorch/pytorch/torch/csrc/utils/tensor_new.cpp:257.)\n",
      "  kc_embeddings_768 = torch.tensor(new_kc_embeddings_768)\n",
      "/opt/miniconda3/envs/myenv/lib/python3.9/site-packages/sklearn/utils/extmath.py:203: RuntimeWarning: divide by zero encountered in matmul\n",
      "  ret = a @ b\n",
      "/opt/miniconda3/envs/myenv/lib/python3.9/site-packages/sklearn/utils/extmath.py:203: RuntimeWarning: overflow encountered in matmul\n",
      "  ret = a @ b\n",
      "/opt/miniconda3/envs/myenv/lib/python3.9/site-packages/sklearn/utils/extmath.py:203: RuntimeWarning: invalid value encountered in matmul\n",
      "  ret = a @ b\n"
     ]
    }
   ],
   "source": [
    "# 计算知识点的余弦相似度\n",
    "import numpy as np\n",
    "from sklearn.metrics.pairwise import cosine_similarity\n",
    "kc_embeddings_768 = torch.tensor(new_kc_embeddings_768)\n",
    "kc_similarity_768 = cosine_similarity(kc_embeddings_768)\n",
    "threshold = 0.5\n",
    "adj_matrix = (kc_similarity_768 > threshold).astype(np.float32)\n",
    "adj_matrix.shape\n",
    "np.save('../data/Python/adj_kc_codebert_codenet.npy', adj_matrix)"
   ]
  }
 ],
 "metadata": {
  "kernelspec": {
   "display_name": "myenv",
   "language": "python",
   "name": "python3"
  },
  "language_info": {
   "codemirror_mode": {
    "name": "ipython",
    "version": 3
   },
   "file_extension": ".py",
   "mimetype": "text/x-python",
   "name": "python",
   "nbconvert_exporter": "python",
   "pygments_lexer": "ipython3",
   "version": "3.9.23"
  }
 },
 "nbformat": 4,
 "nbformat_minor": 5
}
