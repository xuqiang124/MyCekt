{
 "cells": [
  {
   "cell_type": "code",
   "execution_count": 2,
   "id": "93b9b1ab",
   "metadata": {},
   "outputs": [],
   "source": [
    "# 直接加载已划分的数据集\n",
    "import os\n",
    "import pickle\n",
    "from processing_codenet import load_dkt_dataset, KTDataset, pad_collate\n",
    "def load_dataset_from_pkl(file_path):\n",
    "    with open(file_path, 'rb') as f:\n",
    "        dataset = pickle.load(f)\n",
    "    return dataset\n",
    "saved_data_dir = '../data/Java'\n",
    "train_dataset = load_dataset_from_pkl(os.path.join(saved_data_dir, 'train_dataset.pkl'))"
   ]
  },
  {
   "cell_type": "code",
   "execution_count": 2,
   "id": "3531e585",
   "metadata": {},
   "outputs": [
    {
     "data": {
      "text/plain": [
       "374"
      ]
     },
     "execution_count": 2,
     "metadata": {},
     "output_type": "execute_result"
    }
   ],
   "source": [
    "len(train_dataset[2][2])"
   ]
  },
  {
   "cell_type": "code",
   "execution_count": 3,
   "id": "f7ead4a5",
   "metadata": {},
   "outputs": [],
   "source": [
    "from torch.utils.data import  DataLoader\n",
    "train_loader = DataLoader(train_dataset, batch_size=16, shuffle=True, collate_fn=pad_collate)"
   ]
  },
  {
   "cell_type": "code",
   "execution_count": 7,
   "id": "fc2ea0b2",
   "metadata": {},
   "outputs": [
    {
     "data": {
      "text/plain": [
       "torch.utils.data.dataloader.DataLoader"
      ]
     },
     "execution_count": 7,
     "metadata": {},
     "output_type": "execute_result"
    }
   ],
   "source": [
    "type(train_loader)"
   ]
  },
  {
   "cell_type": "code",
   "execution_count": null,
   "id": "fa0c9aef",
   "metadata": {},
   "outputs": [],
   "source": [
    "import numpy as np\n",
    "target_len=50\n",
    "expand_factor=10\n",
    "padding_value=-1.0\n"
   ]
  },
  {
   "cell_type": "code",
   "execution_count": 13,
   "id": "51d6921e",
   "metadata": {},
   "outputs": [
    {
     "data": {
      "text/plain": [
       "26093"
      ]
     },
     "execution_count": 13,
     "metadata": {},
     "output_type": "execute_result"
    }
   ],
   "source": [
    "len(new_samples)"
   ]
  },
  {
   "cell_type": "code",
   "execution_count": null,
   "id": "51d9ece5",
   "metadata": {},
   "outputs": [
    {
     "name": "stdout",
     "output_type": "stream",
     "text": [
      "Sequence Length: 1075\n",
      "Batch 1:\n",
      "Features: torch.Size([16, 1075])\n",
      "Questions: torch.Size([16, 1075])\n",
      "Answers: torch.Size([16, 1075])\n",
      "Sequence Length: 1554\n",
      "Batch 2:\n",
      "Features: torch.Size([16, 1554])\n",
      "Questions: torch.Size([16, 1554])\n",
      "Answers: torch.Size([16, 1554])\n",
      "Sequence Length: 1138\n",
      "Batch 3:\n",
      "Features: torch.Size([16, 1138])\n",
      "Questions: torch.Size([16, 1138])\n",
      "Answers: torch.Size([16, 1138])\n",
      "Sequence Length: 1427\n",
      "Batch 4:\n",
      "Features: torch.Size([16, 1427])\n",
      "Questions: torch.Size([16, 1427])\n",
      "Answers: torch.Size([16, 1427])\n",
      "Sequence Length: 1489\n",
      "Batch 5:\n",
      "Features: torch.Size([16, 1489])\n",
      "Questions: torch.Size([16, 1489])\n",
      "Answers: torch.Size([16, 1489])\n",
      "Sequence Length: 1652\n",
      "Batch 6:\n",
      "Features: torch.Size([16, 1652])\n",
      "Questions: torch.Size([16, 1652])\n",
      "Answers: torch.Size([16, 1652])\n"
     ]
    }
   ],
   "source": [
    "for batch_idx, (features, questions, answers) in enumerate(train_loader):\n",
    "    seq_len = features.shape[1]\n",
    "    \n",
    "    print(f\"Sequence Length: {seq_len}\")\n",
    "    print(f\"Batch {batch_idx + 1}:\")\n",
    "    print(f\"Features: {features.shape}\")\n",
    "    print(f\"Questions: {questions.shape}\")\n",
    "    print(f\"Answers: {answers.shape}\")\n",
    "    if (batch_idx==5): break  # 只打印第一个批次的信息以避免输出过多内容"
   ]
  }
 ],
 "metadata": {
  "kernelspec": {
   "display_name": "myenv",
   "language": "python",
   "name": "python3"
  },
  "language_info": {
   "codemirror_mode": {
    "name": "ipython",
    "version": 3
   },
   "file_extension": ".py",
   "mimetype": "text/x-python",
   "name": "python",
   "nbconvert_exporter": "python",
   "pygments_lexer": "ipython3",
   "version": "3.9.23"
  }
 },
 "nbformat": 4,
 "nbformat_minor": 5
}
